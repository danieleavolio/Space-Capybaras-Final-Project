{
 "cells": [
  {
   "attachments": {},
   "cell_type": "markdown",
   "metadata": {},
   "source": [
    "Ok so this is my notebook so we follow my rules: first of all we need a cat\n",
    "\n",
    "<img src=\"important.jpg\" alt=\"cat\" width=\"200\"/>"
   ]
  },
  {
   "attachments": {},
   "cell_type": "markdown",
   "metadata": {},
   "source": [
    "### Models! :D\n"
   ]
  },
  {
   "cell_type": "code",
   "execution_count": 10,
   "metadata": {},
   "outputs": [],
   "source": [
    "#boring imports, skip that\n",
    "import pandas as pd\n",
    "import numpy as np"
   ]
  },
  {
   "attachments": {},
   "cell_type": "markdown",
   "metadata": {},
   "source": [
    "let's first load the clean dataset"
   ]
  },
  {
   "cell_type": "code",
   "execution_count": 11,
   "metadata": {},
   "outputs": [],
   "source": [
    "data = pd.read_parquet(\"train_clean.parquet\")\n",
    "models = dict()\n",
    "\n",
    "seed = 489"
   ]
  },
  {
   "attachments": {},
   "cell_type": "markdown",
   "metadata": {},
   "source": [
    "Importing models, creating models"
   ]
  },
  {
   "cell_type": "code",
   "execution_count": 12,
   "metadata": {},
   "outputs": [],
   "source": [
    "from sklearn.ensemble import AdaBoostClassifier, GradientBoostingClassifier, RandomForestClassifier\n",
    "from sklearn.svm import SVC\n",
    "from sklearn.linear_model import LogisticRegression\n",
    "from sklearn.model_selection import train_test_split"
   ]
  },
  {
   "cell_type": "code",
   "execution_count": 13,
   "metadata": {},
   "outputs": [],
   "source": [
    "\n",
    "models['random_forest'] =  { 'model' : RandomForestClassifier(random_state=seed)} \n",
    "models['gradient_boosting'] = { 'model' : GradientBoostingClassifier(random_state=seed) } \n",
    "models['ada_boost'] = { 'model' : AdaBoostClassifier(random_state=seed) }\n",
    "models['svc'] = { 'model' : SVC(random_state=seed) }\n",
    "models ['logistic_regression'] = { 'model' : LogisticRegression(random_state=seed)}"
   ]
  },
  {
   "cell_type": "code",
   "execution_count": 14,
   "metadata": {},
   "outputs": [],
   "source": [
    "x = np.array(data.drop(['SalePrice'], axis=1).values)\n",
    "y = np.array(data['SalePrice'].values)\n",
    "\n",
    "test_size = .3\n",
    "val_size = .2\n",
    "\n",
    "#Split train e test\n",
    "x_train, x_test, y_train, y_test = train_test_split(x, y, test_size=test_size, random_state=seed)\n",
    "#Split train e validation\n",
    "x_train, x_val, y_train, y_val = train_test_split(x_train, y_train, test_size=val_size, random_state=seed)"
   ]
  },
  {
   "cell_type": "code",
   "execution_count": 15,
   "metadata": {},
   "outputs": [
    {
     "name": "stderr",
     "output_type": "stream",
     "text": [
      "/home/maiku/.local/lib/python3.10/site-packages/sklearn/linear_model/_logistic.py:458: ConvergenceWarning: lbfgs failed to converge (status=1):\n",
      "STOP: TOTAL NO. of ITERATIONS REACHED LIMIT.\n",
      "\n",
      "Increase the number of iterations (max_iter) or scale the data as shown in:\n",
      "    https://scikit-learn.org/stable/modules/preprocessing.html\n",
      "Please also refer to the documentation for alternative solver options:\n",
      "    https://scikit-learn.org/stable/modules/linear_model.html#logistic-regression\n",
      "  n_iter_i = _check_optimize_result(\n"
     ]
    }
   ],
   "source": [
    "for m in models:\n",
    "    models[m]['model'].fit(x_train,y_train) "
   ]
  },
  {
   "cell_type": "code",
   "execution_count": 16,
   "metadata": {},
   "outputs": [],
   "source": [
    "# predicting values ...\n",
    "\n",
    "for m in models:\n",
    "    models[m]['predictions'] = models[m]['model'].predict(x_test)"
   ]
  },
  {
   "cell_type": "code",
   "execution_count": 17,
   "metadata": {},
   "outputs": [
    {
     "name": "stdout",
     "output_type": "stream",
     "text": [
      "model random_forest : 0.863013698630137\n",
      "model gradient_boosting : 0.8493150684931506\n",
      "model ada_boost : 0.726027397260274\n",
      "model svc : 0.7648401826484018\n",
      "model logistic_regression : 0.773972602739726\n"
     ]
    }
   ],
   "source": [
    "from sklearn.metrics import accuracy_score\n",
    "for m in models:\n",
    "    print(f\"model {m} : {accuracy_score(models[m]['predictions'], y_test)}\")"
   ]
  },
  {
   "attachments": {},
   "cell_type": "markdown",
   "metadata": {},
   "source": [
    "Now let's try to tune a bit some of those models, just to see if we can improve them"
   ]
  },
  {
   "cell_type": "code",
   "execution_count": 22,
   "metadata": {},
   "outputs": [],
   "source": [
    "'''svc\n",
    " poly/rbf gamma = 1 ~0.799\n",
    " poly g = 2 default degree ~0.8\n",
    " poly g = 2 degree=2\n",
    " usare c nessun miglioramento, ma aggiunge rischio overfitting!\n",
    " kernel=\"poly\",gamma=2, degree=2 interrotto a 47 minuti di run (non credo sia un buon modello :D )\n",
    "24 sec 0.803l models['svc'] = { 'model' : SVC(random_state=seed, kernel=\"poly\",gamma=2, class_weight={ 'HIGH': 2} ) }\n",
    "2 min 0.8333 run models['svc'] = { 'model' : SVC(random_state=seed, kernel=\"linear\", class_weight={ 'HIGH': 2} ) }\n",
    "'''\n",
    "models['svc'] = { 'model' : SVC(random_state=seed, kernel=\"poly\",gamma=2, class_weight={ 'HIGH': 2} ) }\n",
    "models['svc']['model'].fit(x_train,y_train) \n",
    "models['svc']['predictions'] = models['svc']['model'].predict(x_test)"
   ]
  },
  {
   "cell_type": "code",
   "execution_count": 23,
   "metadata": {},
   "outputs": [
    {
     "name": "stdout",
     "output_type": "stream",
     "text": [
      "model svc : 0.8036529680365296\n"
     ]
    }
   ],
   "source": [
    "print(f\"model svc : {accuracy_score(models['svc']['predictions'], y_test)}\")"
   ]
  }
 ],
 "metadata": {
  "kernelspec": {
   "display_name": "Python 3.10.8 64-bit",
   "language": "python",
   "name": "python3"
  },
  "language_info": {
   "codemirror_mode": {
    "name": "ipython",
    "version": 3
   },
   "file_extension": ".py",
   "mimetype": "text/x-python",
   "name": "python",
   "nbconvert_exporter": "python",
   "pygments_lexer": "ipython3",
   "version": "3.10.8"
  },
  "orig_nbformat": 4,
  "vscode": {
   "interpreter": {
    "hash": "d2152fd7f0bbc62aa1baff8c990435d1e2c7175d001561303988032604c11a48"
   }
  }
 },
 "nbformat": 4,
 "nbformat_minor": 2
}
